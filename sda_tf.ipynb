{
 "cells": [
  {
   "cell_type": "markdown",
   "metadata": {},
   "source": [
    "# Stacked Denoising Autoencoder (SDA)\n",
    "Uses the Tensoflow machine learning library to train the Stacked Denoising Autoencoder (SDA) to reconstruct \n",
    "compressed \n",
    "***MNIST*** images with Poisson noise.\n",
    "\n",
    "**Author:** Fabian Santiago  \n",
    "**Update:** August 21, 2024\n",
    "\n",
    "**Implementation:** SDA architecture discussed in:\n",
    "**[IEEE publication](https://ieeexplore.ieee.org/abstract/document/8682767)**"
   ]
  },
  {
   "cell_type": "markdown",
   "metadata": {},
   "source": [
    "# Import Modules and Libraries"
   ]
  },
  {
   "cell_type": "code",
   "execution_count": null,
   "metadata": {},
   "outputs": [],
   "source": [
    "from __future__ import division, print_function, absolute_import\n",
    "import tensorflow as tf\n",
    "from tensorflow.keras import layers, models, regularizers\n",
    "import numpy as np\n",
    "import matplotlib.pyplot as plt\n",
    "import h5py\n",
    "import os\n",
    "from skimage.util.shape import view_as_windows"
   ]
  },
  {
   "cell_type": "markdown",
   "metadata": {},
   "source": [
    "# Set Values: Seed, Compression, and Output Dimension "
   ]
  },
  {
   "cell_type": "code",
   "execution_count": null,
   "metadata": {},
   "outputs": [],
   "source": [
    "# Set the seed for TensorFlow and Keras\n",
    "tf.random.set_seed(101)\n",
    "\n",
    "# Dimension of the compressed/noisy images (width=height)  \n",
    "# cmp_dim = 4:(for 4x4), 7:(7x7), 14:(14x14), or 28:(28x284)\n",
    "cmp_dim = 7\n",
    "\n",
    "# Dimension of output, original are 28 x 28\n",
    "out_dim  = 28 "
   ]
  },
  {
   "cell_type": "markdown",
   "metadata": {},
   "source": [
    "# Helper Function Definitions"
   ]
  },
  {
   "cell_type": "code",
   "execution_count": null,
   "metadata": {},
   "outputs": [],
   "source": [
    "# Define sliding window compression\n",
    "def median_downsampling(in_image, cmp_dim):\n",
    "    if cmp_dim < 15:\n",
    "        # Compression dimension to window size\n",
    "        window_size = 28//cmp_dim\n",
    "        # Create sliding windows\n",
    "        windows = view_as_windows(in_image, (window_size, window_size), step=window_size)\n",
    "        # Calculate the median over each window\n",
    "        return np.median(windows, axis=(2, 3))\n",
    "    else:\n",
    "        return in_image\n",
    "\n",
    "# Define compression of entries in an array\n",
    "def down_sample_list(in_array,cmp_dim):\n",
    "    out_array = np.empty((len(in_array), cmp_dim, cmp_dim))\n",
    "    \n",
    "    # Iterate over array\n",
    "    for idx, image in enumerate(in_array):\n",
    "        out_array[idx] = median_downsampling(image,cmp_dim)\n",
    "        \n",
    "    # Return array containing compressed entries \n",
    "    return out_array \n",
    "\n",
    "# Split dataset into two\n",
    "def split_dataset_rnd(in_images):\n",
    "\n",
    "    # Total number of images\n",
    "    num_images = in_images.shape[0]\n",
    "    \n",
    "    # Random permutation of indices\n",
    "    shuffled_indices = np.random.permutation(num_images)\n",
    "    \n",
    "    # Calculate the split index\n",
    "    split_index = num_images // 2\n",
    "    \n",
    "    # Split the shuffled indices\n",
    "    idx1 = shuffled_indices[:split_index]\n",
    "    idx2 = shuffled_indices[split_index:]\n",
    "    \n",
    "    # Use the indices to create two random datasets\n",
    "    dat1 = in_images[idx1]\n",
    "    dat2 = in_images[idx2]\n",
    "    \n",
    "    return dat1, dat2\n",
    "\n",
    "# Create compressed noisy data\n",
    "def create_training_test_data(clean_train, clean_test, cmp_dim, out_dim):\n",
    "    \n",
    "    # Step 0: Create Training and Validation Sets\n",
    "    clean_test, clean_valid = split_dataset_rnd(clean_test)\n",
    "    \n",
    "    # Step 1: Compress images using median in sliding window\n",
    "    cmp_train = down_sample_list(clean_train, cmp_dim)\n",
    "    cmp_test  = down_sample_list(clean_test, cmp_dim)\n",
    "    cmp_valid  = down_sample_list(clean_valid, cmp_dim)\n",
    "\n",
    "    # Step 2: Add Poisson noise to compressed images\n",
    "    noisy_train_ = np.random.poisson(lam=cmp_train)\n",
    "    noisy_test_  = np.random.poisson(lam=cmp_test)\n",
    "    noisy_valid_ = np.random.poisson(lam=cmp_valid)\n",
    "    \n",
    "    noisy_train  = np.clip(noisy_train_,0,255)\n",
    "    noisy_test   = np.clip(noisy_test_,0,255)\n",
    "    noisy_valid  = np.clip(noisy_valid_,0,255)\n",
    "    \n",
    "    # Step 3: Reshape Input Arrays and scale from [0, 255] to [0,1]\n",
    "    noisy_train = np.array([matrix.reshape(cmp_dim**2,) for matrix in noisy_train/255])\n",
    "    noisy_test  = np.array([matrix.reshape(cmp_dim**2,) for matrix in noisy_test/255])\n",
    "    noisy_valid = np.array([matrix.reshape(cmp_dim**2,) for matrix in noisy_valid/255])\n",
    "    \n",
    "    # Step 4: Reshape Expected Ouput Arraus and scale from [0, 255] to [0,1]\n",
    "    clean_train = np.array([matrix.reshape(out_dim**2,) for matrix in clean_train/255])\n",
    "    clean_test  = np.array([matrix.reshape(out_dim**2,) for matrix in clean_test/255])\n",
    "    clean_valid = np.array([matrix.reshape(out_dim**2,) for matrix in clean_valid/255])\n",
    "    \n",
    "    # Step 5: Return training data\n",
    "    return [clean_train, clean_test, clean_valid, noisy_train, noisy_test, noisy_valid]\n",
    "\n",
    "# Stacked Denoising Autoencoder (SDA) Builder\n",
    "def build_SDA(in_dim, out_dim, noise_factor=0.2):\n",
    "    model = models.Sequential()\n",
    "\n",
    "    # Define the input layer\n",
    "    model.add(layers.Input(shape=(in_dim**2,)))\n",
    "\n",
    "    # Add noise to input using GaussianNoise layer to stimulate \n",
    "    # denoising, thereby ignoring small perturbations in input\n",
    "    model.add(layers.GaussianNoise(noise_factor))\n",
    "\n",
    "    # Encoder\n",
    "    model.add(layers.Dense(in_dim**2, activation='sigmoid', kernel_initializer='he_normal'))\n",
    "\n",
    "    # Add Gaussian noise after the encoder\n",
    "    model.add(layers.GaussianNoise(noise_factor))\n",
    "\n",
    "    # Decoder\n",
    "    model.add(layers.Dense(out_dim**2, activation='sigmoid', kernel_initializer='he_normal'))\n",
    "\n",
    "    return model"
   ]
  },
  {
   "cell_type": "markdown",
   "metadata": {},
   "source": [
    "## Load/Create Training Data\n",
    "Load traning data or load MNIST data and create training data if it has not already been created"
   ]
  },
  {
   "cell_type": "code",
   "execution_count": null,
   "metadata": {},
   "outputs": [],
   "source": [
    "directory = 'training_data'\n",
    "\n",
    "# If the directory does not exist, create it\n",
    "if not os.path.exists(directory):\n",
    "    os.makedirs(directory)\n",
    "\n",
    "# Load the MNIST Dataset\n",
    "file = f'mnist_training_data_cmp' # Do not modify\n",
    "\n",
    "# If the training data does not exist, create it\n",
    "if not os.path.exists(f'{directory}/{file}.h5'):\n",
    "    # Load MNIST\n",
    "    (clean_train, _), (clean_test, _) = tf.keras.datasets.mnist.load_data()\n",
    "    \n",
    "    # Create compressed/noisy data, test set, and validation set\n",
    "    train_data = create_training_test_data(clean_train, clean_test, cmp_dim, out_dim)\n",
    "    \n",
    "    # MNIST data\n",
    "    clean_train = train_data[0]\n",
    "    clean_test  = train_data[1]\n",
    "    clean_valid = train_data[2]\n",
    "    \n",
    "    # Compressed noisy signals\n",
    "    noisy_train = train_data[3]\n",
    "    noisy_test  = train_data[4]\n",
    "    noisy_valid = train_data[5]\n",
    "    \n",
    "    # Save with compression\n",
    "    with h5py.File(f'{directory}/{file}_{cmp_dim}x{cmp_dim}.h5', 'w') as f:\n",
    "        # Save original images\n",
    "        f.create_dataset('clean_train', data=clean_train, compression='gzip')\n",
    "        f.create_dataset('clean_test', data=clean_test, compression='gzip')\n",
    "        f.create_dataset('clean_valid', data=clean_valid, compression='gzip')\n",
    "        \n",
    "        # Save compressed noisy images\n",
    "        f.create_dataset('noisy_train', data=noisy_train, compression='gzip')\n",
    "        f.create_dataset('noisy_test', data=noisy_test, compression='gzip')\n",
    "        f.create_dataset('noisy_valid', data=noisy_valid, compression='gzip')\n",
    "        \n",
    "else: # If data exists, load it\n",
    "    with h5py.File(f'{directory}/{file}_{cmp_dim}x{cmp_dim}.h5', 'r') as dat_file:\n",
    "\n",
    "        # Load original MNIST images\n",
    "        clean_train = dat_file['clean_train'][:]\n",
    "        clean_test  = dat_file['clean_test'][:]\n",
    "        clean_valid = dat_file['clean_valid'][:]\n",
    "\n",
    "        # Load compressed noisy images\n",
    "        noisy_train = dat_file['noisy_train'][:]\n",
    "        noisy_test  = dat_file['noisy_test'][:]\n",
    "        noisy_valid = dat_file['noisy_valid'][:]"
   ]
  },
  {
   "cell_type": "markdown",
   "metadata": {},
   "source": [
    "## Display Training Dataset Examples"
   ]
  },
  {
   "cell_type": "code",
   "execution_count": null,
   "metadata": {},
   "outputs": [],
   "source": [
    "# Create a 2 by 4 subplot handle\n",
    "fig, axes = plt.subplots(2, 4, figsize=(9, 4.5))\n",
    "axes      = axes.flatten()\n",
    "\n",
    "# Add title\n",
    "fig.suptitle('Training Set Examples', fontsize=20, fontweight='bold', fontfamily='serif')\n",
    "\n",
    "# Shift window through training dataset \n",
    "sft_idx = 1\n",
    "\n",
    "# Plot noisy and decompressed realizations in each subplot\n",
    "for idx in range(4):\n",
    "    # Plot noisy\n",
    "    axes[idx].imshow(noisy_train[idx+sft_idx].reshape(cmp_dim,cmp_dim),cmap='gray')\n",
    "    axes[idx].set_xticks([]) # Remove xticklabels\n",
    "    axes[idx].set_yticks([]) # Remove yticklabels\n",
    "    \n",
    "    # Plot original\n",
    "    axes[idx+4].imshow(clean_train[idx+sft_idx].reshape(out_dim,out_dim),cmap='gray')\n",
    "    axes[idx+4].set_xticks([]) # Remove xticklabels\n",
    "    axes[idx+4].set_yticks([]) # Remove yticklabels\n",
    "    \n",
    "# Set ylables \n",
    "axes[0].set_ylabel(f'{cmp_dim} x {cmp_dim}\\n(Input)\\nCompressed & Noisy',fontdict={'fontsize': 12, 'fontfamily': 'serif', 'color':'blue'})\n",
    "axes[4].set_ylabel('28 x 28\\n(Original)\\nMNIST',fontdict={'fontsize': 12, 'fontfamily': 'serif'})\n",
    "\n",
    "# Adjust layout to decrease padding between subplots\n",
    "plt.subplots_adjust(wspace=0.1, hspace=0.1)\n",
    "\n",
    "# Display the figure\n",
    "plt.show()"
   ]
  },
  {
   "cell_type": "markdown",
   "metadata": {},
   "source": [
    "## Compile & Train Model"
   ]
  },
  {
   "cell_type": "code",
   "execution_count": null,
   "metadata": {},
   "outputs": [],
   "source": [
    "# Create the model\n",
    "SDA = build_SDA(in_dim = cmp_dim, out_dim = out_dim)\n",
    "\n",
    "# Create an RMSProp optimizer with a specific learning rate\n",
    "RMSp = tf.keras.optimizers.RMSprop(learning_rate=0.05)\n",
    "\n",
    "# Compile the model\n",
    "SDA.compile(optimizer=RMSp, loss='mean_squared_error')\n",
    "\n",
    "# Train model\n",
    "fit_history = SDA.fit(noisy_train, clean_train, epochs=200, batch_size=250,validation_data=(noisy_test, clean_test))"
   ]
  },
  {
   "cell_type": "code",
   "execution_count": null,
   "metadata": {},
   "outputs": [],
   "source": [
    "SDA.summary()"
   ]
  },
  {
   "cell_type": "markdown",
   "metadata": {},
   "source": [
    "## Apply SDA to Training Set and Display Output"
   ]
  },
  {
   "cell_type": "code",
   "execution_count": null,
   "metadata": {
    "scrolled": true
   },
   "outputs": [],
   "source": [
    "# Apply SDA to all training inputs\n",
    "pred_train_out = SDA.predict(noisy_train)"
   ]
  },
  {
   "cell_type": "code",
   "execution_count": null,
   "metadata": {},
   "outputs": [],
   "source": [
    "# Print examples: training set\n",
    "################################\n",
    "\n",
    "# Create a 3 by 4 subplot handle\n",
    "fig, axes = plt.subplots(3, 4, figsize=(10, 8))\n",
    "axes      = axes.flatten()\n",
    "\n",
    "# Add title\n",
    "fig.suptitle('Application of SDA Architecture\\n(Training Set)',fontsize=20,fontweight='bold', fontfamily='serif')\n",
    "\n",
    "# Shift window through training dataset \n",
    "sft_idx = 0\n",
    "\n",
    "# Plot noisy and decompressed realizations in each subplot\n",
    "for idx in range(4):\n",
    "    # Plot noisy\n",
    "    axes[idx].imshow(noisy_train[idx+sft_idx].reshape(cmp_dim,cmp_dim),cmap='gray')\n",
    "    axes[idx].set_xticks([]) # Remove xticklabels\n",
    "    axes[idx].set_yticks([]) # Remove yticklabels\n",
    "    axes[idx].set_xlabel('⇩',fontdict={'fontsize': 25, 'fontweight': 'bold', 'fontfamily': 'serif', 'color':'blue'})\n",
    "    \n",
    "    # Plot decompressed with SDA\n",
    "    axes[idx+4].imshow(pred_train_out[idx+sft_idx].reshape(28,28),cmap='gray')\n",
    "    axes[idx+4].set_xticks([]) # Remove xticklabels\n",
    "    axes[idx+4].set_yticks([]) # Remove yticklabels\n",
    "    \n",
    "    # Plot original\n",
    "    axes[idx+8].imshow(clean_train[idx+sft_idx].reshape(28,28),cmap='gray')\n",
    "    axes[idx+8].set_xticks([]) # Remove xticklabels\n",
    "    axes[idx+8].set_yticks([]) # Remove yticklabels\n",
    "    \n",
    "# Set ylables \n",
    "# axes[0].set_ylabel(f'{cmp_dim} x {cmp_dim}\\n(Pre-Input)\\nCompressed',fontdict={'fontsize': 12, 'fontfamily': 'serif'})\n",
    "axes[0].set_ylabel(f'{cmp_dim} x {cmp_dim}\\n(Input)\\nCompressed & Noisy',fontdict={'fontsize': 12, 'fontfamily': 'serif', 'color':'blue'})\n",
    "axes[4].set_ylabel('28 x 28\\n(Output)\\nSDA Reconstruction',fontdict={'fontsize': 12, 'fontfamily': 'serif', 'color':'blue'})\n",
    "axes[8].set_ylabel('28 x 28\\n(Original)\\nMNIST',fontdict={'fontsize': 12, 'fontfamily': 'serif'})\n",
    "\n",
    "# Adjust layout to decrease padding between subplots\n",
    "plt.subplots_adjust(wspace=0.1, hspace=0.25)\n",
    "\n",
    "# Display the figure\n",
    "plt.show()"
   ]
  },
  {
   "cell_type": "markdown",
   "metadata": {},
   "source": [
    "## Apply SDA to Validation Set and Display Example Output"
   ]
  },
  {
   "cell_type": "code",
   "execution_count": null,
   "metadata": {
    "scrolled": true
   },
   "outputs": [],
   "source": [
    "pred_valid_out = SDA.predict(noisy_valid)"
   ]
  },
  {
   "cell_type": "code",
   "execution_count": null,
   "metadata": {},
   "outputs": [],
   "source": [
    "# Create a 3 by 4 subplot handle\n",
    "fig, axes = plt.subplots(3, 4, figsize=(10, 8))\n",
    "axes      = axes.flatten()\n",
    "\n",
    "# Add title\n",
    "fig.suptitle('Application of SDA Architecture\\n(Validation Set)',fontsize=20,fontweight='bold', fontfamily='serif')\n",
    "\n",
    "# Shift window through validation dataset \n",
    "sft_idx = 0\n",
    "\n",
    "# Plot noisy and decompressed realizations in each subplot\n",
    "for idx in range(4):\n",
    "    # Plot noisy\n",
    "    axes[idx].imshow(noisy_valid[idx+sft_idx].reshape(cmp_dim,cmp_dim),cmap='gray')\n",
    "    axes[idx].set_xticks([]) # Remove xticklabels\n",
    "    axes[idx].set_yticks([]) # Remove yticklabels\n",
    "    axes[idx].set_xlabel('⇩',fontdict={'fontsize': 25, 'fontweight': 'bold', 'fontfamily': 'serif', 'color':'blue'})\n",
    "    \n",
    "    # Plot decompressed with SDA\n",
    "    axes[idx+4].imshow(pred_valid_out[idx+sft_idx].reshape(28,28),cmap='gray')\n",
    "    axes[idx+4].set_xticks([]) # Remove xticklabels\n",
    "    axes[idx+4].set_yticks([]) # Remove yticklabels\n",
    "    \n",
    "    # Plot original\n",
    "    axes[idx+8].imshow(clean_valid[idx+sft_idx].reshape(28,28),cmap='gray')\n",
    "    axes[idx+8].set_xticks([]) # Remove xticklabels\n",
    "    axes[idx+8].set_yticks([]) # Remove yticklabels\n",
    "    \n",
    "# Set ylables \n",
    "# axes[0].set_ylabel(f'{cmp_dim} x {cmp_dim}\\n(Pre-Input)\\nCompressed',fontdict={'fontsize': 12, 'fontfamily': 'serif'})\n",
    "axes[0].set_ylabel(f'{cmp_dim} x {cmp_dim}\\n(Input)\\nCompressed & Noisy',fontdict={'fontsize': 12, 'fontfamily': 'serif', 'color':'blue'})\n",
    "axes[4].set_ylabel('28 x 28\\n(Output)\\nSDA Reconstruction',fontdict={'fontsize': 12, 'fontfamily': 'serif', 'color':'blue'})\n",
    "axes[8].set_ylabel('28 x 28\\n(Original)\\nMNIST',fontdict={'fontsize': 12, 'fontfamily': 'serif'})\n",
    "\n",
    "# Adjust layout to decrease padding between subplots\n",
    "plt.subplots_adjust(wspace=0.1, hspace=0.25)\n",
    "\n",
    "# Display the figure\n",
    "plt.show()"
   ]
  }
 ],
 "metadata": {
  "@webio": {
   "lastCommId": null,
   "lastKernelId": null
  },
  "kernelspec": {
   "display_name": "Python 3 (ipykernel)",
   "language": "python",
   "name": "python3"
  },
  "language_info": {
   "codemirror_mode": {
    "name": "ipython",
    "version": 3
   },
   "file_extension": ".py",
   "mimetype": "text/x-python",
   "name": "python",
   "nbconvert_exporter": "python",
   "pygments_lexer": "ipython3",
   "version": "3.11.5"
  }
 },
 "nbformat": 4,
 "nbformat_minor": 2
}
